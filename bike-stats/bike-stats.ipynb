{
 "cells": [
  {
   "cell_type": "code",
   "execution_count": 2,
   "metadata": {},
   "outputs": [],
   "source": [
    "import pandas as pd"
   ]
  },
  {
   "cell_type": "code",
   "execution_count": 2,
   "metadata": {},
   "outputs": [
    {
     "name": "stderr",
     "output_type": "stream",
     "text": [
      "/home/yaseen/.local/lib/python3.8/site-packages/IPython/core/interactiveshell.py:3444: FutureWarning: The error_bad_lines argument has been deprecated and will be removed in a future version.\n",
      "\n",
      "\n",
      "  exec(code_obj, self.user_global_ns, self.user_ns)\n",
      "b'Skipping line 50794: expected 12 fields, saw 20\\n'\n"
     ]
    },
    {
     "data": {
      "text/html": [
       "<div>\n",
       "<style scoped>\n",
       "    .dataframe tbody tr th:only-of-type {\n",
       "        vertical-align: middle;\n",
       "    }\n",
       "\n",
       "    .dataframe tbody tr th {\n",
       "        vertical-align: top;\n",
       "    }\n",
       "\n",
       "    .dataframe thead th {\n",
       "        text-align: right;\n",
       "    }\n",
       "</style>\n",
       "<table border=\"1\" class=\"dataframe\">\n",
       "  <thead>\n",
       "    <tr style=\"text-align: right;\">\n",
       "      <th></th>\n",
       "      <th>trip_id</th>\n",
       "      <th>starttime</th>\n",
       "      <th>stoptime</th>\n",
       "      <th>bikeid</th>\n",
       "      <th>tripduration</th>\n",
       "      <th>from_station_name</th>\n",
       "      <th>to_station_name</th>\n",
       "      <th>from_station_id</th>\n",
       "      <th>to_station_id</th>\n",
       "      <th>usertype</th>\n",
       "      <th>gender</th>\n",
       "      <th>birthyear</th>\n",
       "    </tr>\n",
       "  </thead>\n",
       "  <tbody>\n",
       "    <tr>\n",
       "      <th>0</th>\n",
       "      <td>431</td>\n",
       "      <td>10/13/2014 10:31</td>\n",
       "      <td>10/13/2014 10:48</td>\n",
       "      <td>SEA00298</td>\n",
       "      <td>985.935</td>\n",
       "      <td>2nd Ave &amp; Spring St</td>\n",
       "      <td>Occidental Park / Occidental Ave S &amp; S Washing...</td>\n",
       "      <td>CBD-06</td>\n",
       "      <td>PS-04</td>\n",
       "      <td>Member</td>\n",
       "      <td>Male</td>\n",
       "      <td>1960.0</td>\n",
       "    </tr>\n",
       "    <tr>\n",
       "      <th>1</th>\n",
       "      <td>432</td>\n",
       "      <td>10/13/2014 10:32</td>\n",
       "      <td>10/13/2014 10:48</td>\n",
       "      <td>SEA00195</td>\n",
       "      <td>926.375</td>\n",
       "      <td>2nd Ave &amp; Spring St</td>\n",
       "      <td>Occidental Park / Occidental Ave S &amp; S Washing...</td>\n",
       "      <td>CBD-06</td>\n",
       "      <td>PS-04</td>\n",
       "      <td>Member</td>\n",
       "      <td>Male</td>\n",
       "      <td>1970.0</td>\n",
       "    </tr>\n",
       "    <tr>\n",
       "      <th>2</th>\n",
       "      <td>433</td>\n",
       "      <td>10/13/2014 10:33</td>\n",
       "      <td>10/13/2014 10:48</td>\n",
       "      <td>SEA00486</td>\n",
       "      <td>883.831</td>\n",
       "      <td>2nd Ave &amp; Spring St</td>\n",
       "      <td>Occidental Park / Occidental Ave S &amp; S Washing...</td>\n",
       "      <td>CBD-06</td>\n",
       "      <td>PS-04</td>\n",
       "      <td>Member</td>\n",
       "      <td>Female</td>\n",
       "      <td>1988.0</td>\n",
       "    </tr>\n",
       "    <tr>\n",
       "      <th>3</th>\n",
       "      <td>434</td>\n",
       "      <td>10/13/2014 10:34</td>\n",
       "      <td>10/13/2014 10:48</td>\n",
       "      <td>SEA00333</td>\n",
       "      <td>865.937</td>\n",
       "      <td>2nd Ave &amp; Spring St</td>\n",
       "      <td>Occidental Park / Occidental Ave S &amp; S Washing...</td>\n",
       "      <td>CBD-06</td>\n",
       "      <td>PS-04</td>\n",
       "      <td>Member</td>\n",
       "      <td>Female</td>\n",
       "      <td>1977.0</td>\n",
       "    </tr>\n",
       "    <tr>\n",
       "      <th>4</th>\n",
       "      <td>435</td>\n",
       "      <td>10/13/2014 10:34</td>\n",
       "      <td>10/13/2014 10:49</td>\n",
       "      <td>SEA00202</td>\n",
       "      <td>923.923</td>\n",
       "      <td>2nd Ave &amp; Spring St</td>\n",
       "      <td>Occidental Park / Occidental Ave S &amp; S Washing...</td>\n",
       "      <td>CBD-06</td>\n",
       "      <td>PS-04</td>\n",
       "      <td>Member</td>\n",
       "      <td>Male</td>\n",
       "      <td>1971.0</td>\n",
       "    </tr>\n",
       "    <tr>\n",
       "      <th>5</th>\n",
       "      <td>436</td>\n",
       "      <td>10/13/2014 10:34</td>\n",
       "      <td>10/13/2014 10:47</td>\n",
       "      <td>SEA00337</td>\n",
       "      <td>808.805</td>\n",
       "      <td>2nd Ave &amp; Spring St</td>\n",
       "      <td>Occidental Park / Occidental Ave S &amp; S Washing...</td>\n",
       "      <td>CBD-06</td>\n",
       "      <td>PS-04</td>\n",
       "      <td>Member</td>\n",
       "      <td>Male</td>\n",
       "      <td>1974.0</td>\n",
       "    </tr>\n",
       "    <tr>\n",
       "      <th>6</th>\n",
       "      <td>437</td>\n",
       "      <td>10/13/2014 11:35</td>\n",
       "      <td>10/13/2014 11:45</td>\n",
       "      <td>SEA00202</td>\n",
       "      <td>596.715</td>\n",
       "      <td>Occidental Park / Occidental Ave S &amp; S Washing...</td>\n",
       "      <td>King Street Station Plaza / 2nd Ave Extension ...</td>\n",
       "      <td>PS-04</td>\n",
       "      <td>PS-05</td>\n",
       "      <td>Member</td>\n",
       "      <td>Male</td>\n",
       "      <td>1978.0</td>\n",
       "    </tr>\n",
       "    <tr>\n",
       "      <th>7</th>\n",
       "      <td>438</td>\n",
       "      <td>10/13/2014 11:35</td>\n",
       "      <td>10/13/2014 11:45</td>\n",
       "      <td>SEA00311</td>\n",
       "      <td>592.131</td>\n",
       "      <td>Occidental Park / Occidental Ave S &amp; S Washing...</td>\n",
       "      <td>King Street Station Plaza / 2nd Ave Extension ...</td>\n",
       "      <td>PS-04</td>\n",
       "      <td>PS-05</td>\n",
       "      <td>Member</td>\n",
       "      <td>Male</td>\n",
       "      <td>1983.0</td>\n",
       "    </tr>\n",
       "    <tr>\n",
       "      <th>8</th>\n",
       "      <td>439</td>\n",
       "      <td>10/13/2014 11:35</td>\n",
       "      <td>10/13/2014 11:45</td>\n",
       "      <td>SEA00486</td>\n",
       "      <td>586.347</td>\n",
       "      <td>Occidental Park / Occidental Ave S &amp; S Washing...</td>\n",
       "      <td>King Street Station Plaza / 2nd Ave Extension ...</td>\n",
       "      <td>PS-04</td>\n",
       "      <td>PS-05</td>\n",
       "      <td>Member</td>\n",
       "      <td>Female</td>\n",
       "      <td>1974.0</td>\n",
       "    </tr>\n",
       "    <tr>\n",
       "      <th>9</th>\n",
       "      <td>440</td>\n",
       "      <td>10/13/2014 11:35</td>\n",
       "      <td>10/13/2014 11:45</td>\n",
       "      <td>SEA00434</td>\n",
       "      <td>587.634</td>\n",
       "      <td>Occidental Park / Occidental Ave S &amp; S Washing...</td>\n",
       "      <td>King Street Station Plaza / 2nd Ave Extension ...</td>\n",
       "      <td>PS-04</td>\n",
       "      <td>PS-05</td>\n",
       "      <td>Member</td>\n",
       "      <td>Male</td>\n",
       "      <td>1958.0</td>\n",
       "    </tr>\n",
       "  </tbody>\n",
       "</table>\n",
       "</div>"
      ],
      "text/plain": [
       "   trip_id         starttime          stoptime    bikeid  tripduration  \\\n",
       "0      431  10/13/2014 10:31  10/13/2014 10:48  SEA00298       985.935   \n",
       "1      432  10/13/2014 10:32  10/13/2014 10:48  SEA00195       926.375   \n",
       "2      433  10/13/2014 10:33  10/13/2014 10:48  SEA00486       883.831   \n",
       "3      434  10/13/2014 10:34  10/13/2014 10:48  SEA00333       865.937   \n",
       "4      435  10/13/2014 10:34  10/13/2014 10:49  SEA00202       923.923   \n",
       "5      436  10/13/2014 10:34  10/13/2014 10:47  SEA00337       808.805   \n",
       "6      437  10/13/2014 11:35  10/13/2014 11:45  SEA00202       596.715   \n",
       "7      438  10/13/2014 11:35  10/13/2014 11:45  SEA00311       592.131   \n",
       "8      439  10/13/2014 11:35  10/13/2014 11:45  SEA00486       586.347   \n",
       "9      440  10/13/2014 11:35  10/13/2014 11:45  SEA00434       587.634   \n",
       "\n",
       "                                   from_station_name  \\\n",
       "0                                2nd Ave & Spring St   \n",
       "1                                2nd Ave & Spring St   \n",
       "2                                2nd Ave & Spring St   \n",
       "3                                2nd Ave & Spring St   \n",
       "4                                2nd Ave & Spring St   \n",
       "5                                2nd Ave & Spring St   \n",
       "6  Occidental Park / Occidental Ave S & S Washing...   \n",
       "7  Occidental Park / Occidental Ave S & S Washing...   \n",
       "8  Occidental Park / Occidental Ave S & S Washing...   \n",
       "9  Occidental Park / Occidental Ave S & S Washing...   \n",
       "\n",
       "                                     to_station_name from_station_id  \\\n",
       "0  Occidental Park / Occidental Ave S & S Washing...          CBD-06   \n",
       "1  Occidental Park / Occidental Ave S & S Washing...          CBD-06   \n",
       "2  Occidental Park / Occidental Ave S & S Washing...          CBD-06   \n",
       "3  Occidental Park / Occidental Ave S & S Washing...          CBD-06   \n",
       "4  Occidental Park / Occidental Ave S & S Washing...          CBD-06   \n",
       "5  Occidental Park / Occidental Ave S & S Washing...          CBD-06   \n",
       "6  King Street Station Plaza / 2nd Ave Extension ...           PS-04   \n",
       "7  King Street Station Plaza / 2nd Ave Extension ...           PS-04   \n",
       "8  King Street Station Plaza / 2nd Ave Extension ...           PS-04   \n",
       "9  King Street Station Plaza / 2nd Ave Extension ...           PS-04   \n",
       "\n",
       "  to_station_id usertype  gender  birthyear  \n",
       "0         PS-04   Member    Male     1960.0  \n",
       "1         PS-04   Member    Male     1970.0  \n",
       "2         PS-04   Member  Female     1988.0  \n",
       "3         PS-04   Member  Female     1977.0  \n",
       "4         PS-04   Member    Male     1971.0  \n",
       "5         PS-04   Member    Male     1974.0  \n",
       "6         PS-05   Member    Male     1978.0  \n",
       "7         PS-05   Member    Male     1983.0  \n",
       "8         PS-05   Member  Female     1974.0  \n",
       "9         PS-05   Member    Male     1958.0  "
      ]
     },
     "execution_count": 2,
     "metadata": {},
     "output_type": "execute_result"
    }
   ],
   "source": [
    "df = pd.read_csv('trip.csv',error_bad_lines=False)\n",
    "df.head(10)"
   ]
  },
  {
   "cell_type": "markdown",
   "metadata": {},
   "source": [
    "### What is the average trip duration for a borrowed bicycle?\n"
   ]
  },
  {
   "cell_type": "code",
   "execution_count": 3,
   "metadata": {},
   "outputs": [
    {
     "name": "stderr",
     "output_type": "stream",
     "text": [
      "/home/yaseen/.local/lib/python3.8/site-packages/IPython/core/interactiveshell.py:3444: FutureWarning: The error_bad_lines argument has been deprecated and will be removed in a future version.\n",
      "\n",
      "\n",
      "  exec(code_obj, self.user_global_ns, self.user_ns)\n",
      "b'Skipping line 50794: expected 12 fields, saw 20\\n'\n"
     ]
    }
   ],
   "source": [
    "df = pd.read_csv('trip.csv',error_bad_lines=False)\n",
    "average_Trip = float(df['tripduration'].mean())\n",
    "assert (average_Trip)==1178.2956753399776"
   ]
  },
  {
   "cell_type": "markdown",
   "metadata": {},
   "source": [
    "### What’s the most common age of a bicycle-sharer?\n"
   ]
  },
  {
   "cell_type": "code",
   "execution_count": 4,
   "metadata": {},
   "outputs": [
    {
     "name": "stderr",
     "output_type": "stream",
     "text": [
      "b'Skipping line 50794: expected 12 fields, saw 20\\n'\n"
     ]
    }
   ],
   "source": [
    "df = pd.read_csv('trip.csv',error_bad_lines=False)\n",
    "sort_common_age = df.groupby('birthyear').count()\n",
    "most_common_age = sort_common_age.sort_values(by='bikeid', ascending=False).head(1)\n",
    "most_common_age_bicycle = float(2021 - most_common_age.index[0])\n",
    "assert (most_common_age_bicycle) == 34.0"
   ]
  },
  {
   "cell_type": "markdown",
   "metadata": {},
   "source": [
    "### Given all the weather data here, find the average precipitation per month, and the median precipitation."
   ]
  },
  {
   "cell_type": "code",
   "execution_count": 5,
   "metadata": {},
   "outputs": [
    {
     "name": "stdout",
     "output_type": "stream",
     "text": [
      "         Precipitation_In\n",
      "2014 10          0.300526\n",
      "     11          0.141667\n",
      "     12          0.145161\n",
      "2015 1           0.070645\n",
      "     2           0.163214\n",
      "     3           0.135161\n",
      "     4           0.056667\n",
      "     5           0.014194\n",
      "     6           0.005667\n",
      "     7           0.008710\n",
      "     8           0.035484\n",
      "     9           0.041000\n",
      "     10          0.120645\n",
      "     11          0.234000\n",
      "     12          0.327419\n",
      "2016 1           0.216452\n",
      "     2           0.173448\n",
      "     3           0.178710\n",
      "     4           0.046000\n",
      "     5           0.010645\n",
      "     6           0.055333\n",
      "     7           0.015484\n",
      "     8           0.000968\n",
      "         Precipitation_In\n",
      "2014 10             0.140\n",
      "     11             0.010\n",
      "     12             0.010\n",
      "2015 1              0.010\n",
      "     2              0.025\n",
      "     3              0.000\n",
      "     4              0.000\n",
      "     5              0.000\n",
      "     6              0.000\n",
      "     7              0.000\n",
      "     8              0.000\n",
      "     9              0.000\n",
      "     10             0.010\n",
      "     11             0.065\n",
      "     12             0.120\n",
      "2016 1              0.070\n",
      "     2              0.080\n",
      "     3              0.060\n",
      "     4              0.000\n",
      "     5              0.000\n",
      "     6              0.000\n",
      "     7              0.000\n",
      "     8              0.000\n"
     ]
    }
   ],
   "source": [
    "df_weather = pd.read_csv('weather.csv')\n",
    "data_month = df_weather[['Date','Precipitation_In']]\n",
    "# df_weather['Date'] = pd.to_datetime(df_weather['Date'].year)\n",
    "# df_weather['Date'] = pd.DatetimeIndex(df_weather['Date']).year.values\n",
    "\n",
    "group_month_avg =data_month.groupby([(pd.DatetimeIndex(data_month['Date']).year.values),(pd.DatetimeIndex(data_month['Date']).month.values)]).mean()\n",
    "group_month_median =data_month.groupby([(pd.DatetimeIndex(data_month['Date']).year.values),(pd.DatetimeIndex(data_month['Date']).month.values)]).median()\n",
    "print(group_month_avg)\n",
    "print(group_month_median)\n"
   ]
  },
  {
   "cell_type": "markdown",
   "metadata": {},
   "source": [
    "### What's the average number of bikes at a given bike station?"
   ]
  },
  {
   "cell_type": "code",
   "execution_count": 8,
   "metadata": {},
   "outputs": [],
   "source": [
    "df_station = pd.read_csv('station.csv')\n",
    "avg_bike_station = float(df_station['install_dockcount'].mean())\n",
    "assert (avg_bike_station)==17.586206896551722"
   ]
  },
  {
   "cell_type": "markdown",
   "metadata": {},
   "source": [
    "### When a bike station is modified, is it more likely that it’ll lose bikes or gain bikes? How do you know?"
   ]
  },
  {
   "cell_type": "code",
   "execution_count": 5,
   "metadata": {},
   "outputs": [],
   "source": [
    "df_station = pd.read_csv('station.csv')\n",
    "# avg_bike_station_current = df_station['current_dockcount'].sum()\n",
    "# avg_bike_station_current \n",
    "# avg_bike_station_install = df_station['install_dockcount'].sum()\n",
    "\n",
    "# prop_loss_bike = avg_bike_station_current/avg_bike_station_install*100\n",
    "# prop_loss_bike = 100-prop_loss_bike\n",
    "# prop_loss_bike = str(prop_loss_bike)+'%'\n",
    "# df_station\n",
    "avg_bike_station_current = (df_station['current_dockcount']-df_station['install_dockcount'])\n",
    "assert (avg_bike_station_current.sum())== -62\n"
   ]
  },
  {
   "cell_type": "markdown",
   "metadata": {},
   "source": [
    "### find avg of male/female have bicycle"
   ]
  },
  {
   "cell_type": "code",
   "execution_count": 6,
   "metadata": {},
   "outputs": [
    {
     "name": "stderr",
     "output_type": "stream",
     "text": [
      "b'Skipping line 50794: expected 12 fields, saw 20\\n'\n",
      "/tmp/ipykernel_995/3917316652.py:3: FutureWarning: Dropping of nuisance columns in DataFrame reductions (with 'numeric_only=None') is deprecated; in a future version this will raise TypeError.  Select only valid columns before calling the reduction.\n",
      "  male_bick = df2 [df2['gender'] == 'Male'].mean()\n",
      "/tmp/ipykernel_995/3917316652.py:4: FutureWarning: Dropping of nuisance columns in DataFrame reductions (with 'numeric_only=None') is deprecated; in a future version this will raise TypeError.  Select only valid columns before calling the reduction.\n",
      "  female_bick = df2 [df2['gender'] == 'Female'].mean()\n"
     ]
    },
    {
     "data": {
      "text/plain": [
       "0.9156825992927549"
      ]
     },
     "execution_count": 6,
     "metadata": {},
     "output_type": "execute_result"
    }
   ],
   "source": [
    "df = pd.read_csv('trip.csv',error_bad_lines=False)\n",
    "df2=df.head(1000)\n",
    "male_bick = df2 [df2['gender'] == 'Male'].mean()\n",
    "female_bick = df2 [df2['gender'] == 'Female'].mean()\n",
    "avg_gender = male_bick/female_bick\n",
    "gender_trip=float(avg_gender['tripduration'])\n",
    "gender_trip"
   ]
  },
  {
   "cell_type": "markdown",
   "metadata": {},
   "source": [
    "### what date the weather is Rain-Thunderstorm ?"
   ]
  },
  {
   "cell_type": "code",
   "execution_count": 7,
   "metadata": {},
   "outputs": [
    {
     "data": {
      "text/plain": [
       "422     12/9/2015\n",
       "423    12/10/2015\n",
       "518     3/14/2016\n",
       "616     6/20/2016\n",
       "Name: Date, dtype: object"
      ]
     },
     "execution_count": 7,
     "metadata": {},
     "output_type": "execute_result"
    }
   ],
   "source": [
    "df_weather = pd.read_csv('weather.csv')\n",
    "Rain_Thunderstorm = df_weather[df_weather['Events']=='Rain-Thunderstorm']\n",
    "Rain_Thunderstorm['Date']"
   ]
  },
  {
   "cell_type": "markdown",
   "metadata": {},
   "source": [
    "### remove Nan from modification "
   ]
  },
  {
   "cell_type": "code",
   "execution_count": 9,
   "metadata": {},
   "outputs": [
    {
     "data": {
      "text/plain": [
       "7      11/9/2015\n",
       "10      8/9/2016\n",
       "12     2/24/2015\n",
       "17     2/24/2015\n",
       "22     3/24/2015\n",
       "23     3/27/2015\n",
       "26     3/18/2016\n",
       "31     2/24/2015\n",
       "35     3/13/2015\n",
       "37     2/23/2015\n",
       "38     11/2/2015\n",
       "39      3/4/2015\n",
       "46    10/29/2015\n",
       "47     2/20/2015\n",
       "48     2/20/2015\n",
       "49     2/20/2015\n",
       "50     2/20/2015\n",
       "Name: modification_date, dtype: object"
      ]
     },
     "execution_count": 9,
     "metadata": {},
     "output_type": "execute_result"
    }
   ],
   "source": [
    "df_station = pd.read_csv('station.csv')\n",
    "remove_nan =df_station.dropna(subset=['modification_date'])\n",
    "remove_nan['modification_date']"
   ]
  },
  {
   "cell_type": "code",
   "execution_count": 10,
   "metadata": {},
   "outputs": [
    {
     "name": "stdout",
     "output_type": "stream",
     "text": [
      "Success!!!\n"
     ]
    }
   ],
   "source": [
    "def test():\n",
    "\n",
    "    def assert_equal(actual,expected):\n",
    "        assert actual == expected, f\"Expected {expected} but got {actual}\"\n",
    "\n",
    "    assert_equal(average_Trip,1178.2956753399776)\n",
    "    assert_equal(most_common_age_bicycle, 34.0)\n",
    "    assert_equal(avg_bike_station,17.586206896551722)\n",
    "    assert_equal(avg_bike_station_current.sum(), -62)\n",
    "    assert_equal(gender_trip,0.9156825992927549)\n",
    "    print(\"Success!!!\")\n",
    "\n",
    "test()"
   ]
  }
 ],
 "metadata": {
  "interpreter": {
   "hash": "31f2aee4e71d21fbe5cf8b01ff0e069b9275f58929596ceb00d14d90e3e16cd6"
  },
  "kernelspec": {
   "display_name": "Python 3.8.10 64-bit",
   "language": "python",
   "name": "python3"
  },
  "language_info": {
   "codemirror_mode": {
    "name": "ipython",
    "version": 3
   },
   "file_extension": ".py",
   "mimetype": "text/x-python",
   "name": "python",
   "nbconvert_exporter": "python",
   "pygments_lexer": "ipython3",
   "version": "3.8.10"
  },
  "orig_nbformat": 4
 },
 "nbformat": 4,
 "nbformat_minor": 2
}
